{
  "nbformat": 4,
  "nbformat_minor": 0,
  "metadata": {
    "colab": {
      "name": "api_test.ipynb",
      "provenance": [],
      "authorship_tag": "ABX9TyOWPK32Mz+U/CDnCpRmW4E0",
      "include_colab_link": true
    },
    "kernelspec": {
      "name": "python3",
      "display_name": "Python 3"
    }
  },
  "cells": [
    {
      "cell_type": "markdown",
      "metadata": {
        "id": "view-in-github",
        "colab_type": "text"
      },
      "source": [
        "<a href=\"https://colab.research.google.com/github/nanswim/first/blob/master/api_test.ipynb\" target=\"_parent\"><img src=\"https://colab.research.google.com/assets/colab-badge.svg\" alt=\"Open In Colab\"/></a>"
      ]
    },
    {
      "cell_type": "code",
      "metadata": {
        "id": "EOi_sKMrLrX2",
        "colab_type": "code",
        "colab": {
          "base_uri": "https://localhost:8080/",
          "height": 55
        },
        "outputId": "97e6c8cf-8db8-4672-e356-301ec31d9ca3"
      },
      "source": [
        "# Python 샘플 코드 #\n",
        "\n",
        "\n",
        "# from urllib2 import Request, urlopen\n",
        "import urllib\n",
        "from urllib.parse   import quote\n",
        "from urllib.request import urlopen\n",
        "# urllib.request.urlopen\n",
        "\n",
        "queryParams = '?'\n",
        "\n",
        "url = 'http://openapi.molit.go.kr/OpenAPI_ToolInstallPackage/service/rest/RTMSOBJSvc/getRTMSDataSvcSilvTrade'\n",
        "#url = 'http://openapi.molit.go.kr/OpenAPI_ToolInstallPackage/service/rest/RTMSOBJSvc/getRTMSDataSvcSilvTrade'\n",
        "queryParams = '?' + urllib.parse.urlencode({ urllib.parse.quote_plus('ServiceKey') : '0%2Bpvs9MoLf%2BgoCAv5v4a%2BjZ%2FXjQrwAtvUN4saiH%2BwfHuQxU2nLesUTlfS1s8bpLrUHbbCHGhi7MhJp34c4o91A%3D%3D', urllib.parse.quote_plus('LAWD_CD') : '11110', urllib.parse.quote_plus('DEAL_YMD') : '201512', urllib.parse.quote_plus('ServiceKey') : '인증키(URL Encode)' })\n",
        "\n",
        "request = urllib.request.Request(url + queryParams)\n",
        "request.get_method = lambda: 'GET'\n",
        "response_body = urlopen(request).read()\n",
        "print (response_body)\n"
      ],
      "execution_count": 14,
      "outputs": [
        {
          "output_type": "stream",
          "text": [
            "b'<?xml version=\"1.0\" encoding=\"UTF-8\" standalone=\"yes\"?><response><header><resultCode>99</resultCode><resultMsg>SERVICE KEY IS NOT REGISTERED ERROR.</resultMsg></header></response>'\n"
          ],
          "name": "stdout"
        }
      ]
    }
  ]
}